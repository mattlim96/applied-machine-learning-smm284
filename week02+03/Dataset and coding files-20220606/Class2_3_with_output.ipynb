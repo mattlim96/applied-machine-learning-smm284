{
 "cells": [
  {
   "cell_type": "code",
   "execution_count": 95,
   "id": "0a720561",
   "metadata": {},
   "outputs": [],
   "source": [
    "# load packages\n",
    "\n",
    "# core quantitative analysis packages\n",
    "import numpy as np\n",
    "import pandas as pd\n",
    "\n",
    "# visualisation\n",
    "import matplotlib.pyplot as plt # default package\n",
    "%matplotlib inline\n",
    "\n",
    "# machine learning\n",
    "#  models ordered in order of usage in the worksheet\n",
    "from sklearn.model_selection import train_test_split\n",
    "from sklearn.model_selection import StratifiedShuffleSplit\n",
    "from sklearn.impute import SimpleImputer\n",
    "from sklearn.preprocessing import OneHotEncoder\n",
    "from sklearn.preprocessing import StandardScaler\n",
    "from sklearn.base import BaseEstimator, TransformerMixin\n",
    "from sklearn.pipeline import Pipeline\n",
    "from sklearn.compose import ColumnTransformer\n",
    "from sklearn.linear_model import LinearRegression\n",
    "from sklearn.metrics import mean_squared_error\n",
    "from sklearn.model_selection import cross_val_score\n",
    "from sklearn.linear_model import SGDRegressor\n",
    "from sklearn.model_selection import GridSearchCV\n",
    "from sklearn.tree import DecisionTreeRegressor\n",
    "from sklearn.ensemble import RandomForestRegressor\n",
    "from scipy import stats\n",
    "from sklearn.linear_model import Ridge\n",
    "from sklearn.linear_model import Lasso\n",
    "from sklearn.linear_model import ElasticNet\n",
    "from sklearn.svm import LinearSVR\n",
    "from sklearn.ensemble import GradientBoostingRegressor\n",
    "import xgboost # you will need to install this package, see code below to install"
   ]
  },
  {
   "cell_type": "code",
   "execution_count": 94,
   "id": "e8f7d9e3",
   "metadata": {},
   "outputs": [],
   "source": [
    "# to install a package you don't have installed (remove the hashtags below to run)\n",
    "\n",
    "# import sys\n",
    "# !{sys.executable} -m pip install xgboost"
   ]
  },
  {
   "cell_type": "markdown",
   "id": "4a36061a",
   "metadata": {},
   "source": [
    "## Part 1: Preparing the dataset"
   ]
  },
  {
   "cell_type": "code",
   "execution_count": 2,
   "id": "96060439",
   "metadata": {},
   "outputs": [],
   "source": [
    "# load the dataset (available from Moodle, need to load the data into Google Colab, see last class)\n",
    "\n",
    "housing = pd.read_csv(\"Class2.csv\")"
   ]
  },
  {
   "cell_type": "code",
   "execution_count": 3,
   "id": "9a6257f3",
   "metadata": {},
   "outputs": [
    {
     "data": {
      "text/html": [
       "<div>\n",
       "<style scoped>\n",
       "    .dataframe tbody tr th:only-of-type {\n",
       "        vertical-align: middle;\n",
       "    }\n",
       "\n",
       "    .dataframe tbody tr th {\n",
       "        vertical-align: top;\n",
       "    }\n",
       "\n",
       "    .dataframe thead th {\n",
       "        text-align: right;\n",
       "    }\n",
       "</style>\n",
       "<table border=\"1\" class=\"dataframe\">\n",
       "  <thead>\n",
       "    <tr style=\"text-align: right;\">\n",
       "      <th></th>\n",
       "      <th>longitude</th>\n",
       "      <th>latitude</th>\n",
       "      <th>housing_median_age</th>\n",
       "      <th>total_rooms</th>\n",
       "      <th>total_bedrooms</th>\n",
       "      <th>population</th>\n",
       "      <th>households</th>\n",
       "      <th>median_income</th>\n",
       "      <th>median_house_value</th>\n",
       "      <th>ocean_proximity</th>\n",
       "    </tr>\n",
       "  </thead>\n",
       "  <tbody>\n",
       "    <tr>\n",
       "      <th>0</th>\n",
       "      <td>-122.23</td>\n",
       "      <td>37.88</td>\n",
       "      <td>41.0</td>\n",
       "      <td>880.0</td>\n",
       "      <td>129.0</td>\n",
       "      <td>322.0</td>\n",
       "      <td>126.0</td>\n",
       "      <td>8.3252</td>\n",
       "      <td>452600.0</td>\n",
       "      <td>NEAR BAY</td>\n",
       "    </tr>\n",
       "    <tr>\n",
       "      <th>1</th>\n",
       "      <td>-122.22</td>\n",
       "      <td>37.86</td>\n",
       "      <td>21.0</td>\n",
       "      <td>7099.0</td>\n",
       "      <td>1106.0</td>\n",
       "      <td>2401.0</td>\n",
       "      <td>1138.0</td>\n",
       "      <td>8.3014</td>\n",
       "      <td>358500.0</td>\n",
       "      <td>NEAR BAY</td>\n",
       "    </tr>\n",
       "    <tr>\n",
       "      <th>2</th>\n",
       "      <td>-122.24</td>\n",
       "      <td>37.85</td>\n",
       "      <td>52.0</td>\n",
       "      <td>1467.0</td>\n",
       "      <td>190.0</td>\n",
       "      <td>496.0</td>\n",
       "      <td>177.0</td>\n",
       "      <td>7.2574</td>\n",
       "      <td>352100.0</td>\n",
       "      <td>NEAR BAY</td>\n",
       "    </tr>\n",
       "    <tr>\n",
       "      <th>3</th>\n",
       "      <td>-122.25</td>\n",
       "      <td>37.85</td>\n",
       "      <td>52.0</td>\n",
       "      <td>1274.0</td>\n",
       "      <td>235.0</td>\n",
       "      <td>558.0</td>\n",
       "      <td>219.0</td>\n",
       "      <td>5.6431</td>\n",
       "      <td>341300.0</td>\n",
       "      <td>NEAR BAY</td>\n",
       "    </tr>\n",
       "    <tr>\n",
       "      <th>4</th>\n",
       "      <td>-122.25</td>\n",
       "      <td>37.85</td>\n",
       "      <td>52.0</td>\n",
       "      <td>1627.0</td>\n",
       "      <td>280.0</td>\n",
       "      <td>565.0</td>\n",
       "      <td>259.0</td>\n",
       "      <td>3.8462</td>\n",
       "      <td>342200.0</td>\n",
       "      <td>NEAR BAY</td>\n",
       "    </tr>\n",
       "  </tbody>\n",
       "</table>\n",
       "</div>"
      ],
      "text/plain": [
       "   longitude  latitude  housing_median_age  total_rooms  total_bedrooms  \\\n",
       "0    -122.23     37.88                41.0        880.0           129.0   \n",
       "1    -122.22     37.86                21.0       7099.0          1106.0   \n",
       "2    -122.24     37.85                52.0       1467.0           190.0   \n",
       "3    -122.25     37.85                52.0       1274.0           235.0   \n",
       "4    -122.25     37.85                52.0       1627.0           280.0   \n",
       "\n",
       "   population  households  median_income  median_house_value ocean_proximity  \n",
       "0       322.0       126.0         8.3252            452600.0        NEAR BAY  \n",
       "1      2401.0      1138.0         8.3014            358500.0        NEAR BAY  \n",
       "2       496.0       177.0         7.2574            352100.0        NEAR BAY  \n",
       "3       558.0       219.0         5.6431            341300.0        NEAR BAY  \n",
       "4       565.0       259.0         3.8462            342200.0        NEAR BAY  "
      ]
     },
     "execution_count": 3,
     "metadata": {},
     "output_type": "execute_result"
    }
   ],
   "source": [
    "# inspect the data\n",
    "\n",
    "# 1. run the .head() command to see the general format of the data\n",
    "\n",
    "housing.head()"
   ]
  },
  {
   "cell_type": "code",
   "execution_count": 4,
   "id": "087d8965",
   "metadata": {},
   "outputs": [
    {
     "name": "stdout",
     "output_type": "stream",
     "text": [
      "<class 'pandas.core.frame.DataFrame'>\n",
      "RangeIndex: 20640 entries, 0 to 20639\n",
      "Data columns (total 10 columns):\n",
      " #   Column              Non-Null Count  Dtype  \n",
      "---  ------              --------------  -----  \n",
      " 0   longitude           20640 non-null  float64\n",
      " 1   latitude            20640 non-null  float64\n",
      " 2   housing_median_age  20640 non-null  float64\n",
      " 3   total_rooms         20640 non-null  float64\n",
      " 4   total_bedrooms      20433 non-null  float64\n",
      " 5   population          20640 non-null  float64\n",
      " 6   households          20640 non-null  float64\n",
      " 7   median_income       20640 non-null  float64\n",
      " 8   median_house_value  20640 non-null  float64\n",
      " 9   ocean_proximity     20640 non-null  object \n",
      "dtypes: float64(9), object(1)\n",
      "memory usage: 1.6+ MB\n"
     ]
    }
   ],
   "source": [
    "# inspect the data\n",
    "\n",
    "# 2. run the .info() command to check size of dataset and if any missing data\n",
    "\n",
    "housing.info()"
   ]
  },
  {
   "cell_type": "code",
   "execution_count": 5,
   "id": "7d1e865f",
   "metadata": {},
   "outputs": [
    {
     "data": {
      "text/html": [
       "<div>\n",
       "<style scoped>\n",
       "    .dataframe tbody tr th:only-of-type {\n",
       "        vertical-align: middle;\n",
       "    }\n",
       "\n",
       "    .dataframe tbody tr th {\n",
       "        vertical-align: top;\n",
       "    }\n",
       "\n",
       "    .dataframe thead th {\n",
       "        text-align: right;\n",
       "    }\n",
       "</style>\n",
       "<table border=\"1\" class=\"dataframe\">\n",
       "  <thead>\n",
       "    <tr style=\"text-align: right;\">\n",
       "      <th></th>\n",
       "      <th>longitude</th>\n",
       "      <th>latitude</th>\n",
       "      <th>housing_median_age</th>\n",
       "      <th>total_rooms</th>\n",
       "      <th>total_bedrooms</th>\n",
       "      <th>population</th>\n",
       "      <th>households</th>\n",
       "      <th>median_income</th>\n",
       "      <th>median_house_value</th>\n",
       "    </tr>\n",
       "  </thead>\n",
       "  <tbody>\n",
       "    <tr>\n",
       "      <th>count</th>\n",
       "      <td>20640.000000</td>\n",
       "      <td>20640.000000</td>\n",
       "      <td>20640.000000</td>\n",
       "      <td>20640.000000</td>\n",
       "      <td>20433.000000</td>\n",
       "      <td>20640.000000</td>\n",
       "      <td>20640.000000</td>\n",
       "      <td>20640.000000</td>\n",
       "      <td>20640.000000</td>\n",
       "    </tr>\n",
       "    <tr>\n",
       "      <th>mean</th>\n",
       "      <td>-119.569704</td>\n",
       "      <td>35.631861</td>\n",
       "      <td>28.639486</td>\n",
       "      <td>2635.763081</td>\n",
       "      <td>537.870553</td>\n",
       "      <td>1425.476744</td>\n",
       "      <td>499.539680</td>\n",
       "      <td>3.870671</td>\n",
       "      <td>206855.816909</td>\n",
       "    </tr>\n",
       "    <tr>\n",
       "      <th>std</th>\n",
       "      <td>2.003532</td>\n",
       "      <td>2.135952</td>\n",
       "      <td>12.585558</td>\n",
       "      <td>2181.615252</td>\n",
       "      <td>421.385070</td>\n",
       "      <td>1132.462122</td>\n",
       "      <td>382.329753</td>\n",
       "      <td>1.899822</td>\n",
       "      <td>115395.615874</td>\n",
       "    </tr>\n",
       "    <tr>\n",
       "      <th>min</th>\n",
       "      <td>-124.350000</td>\n",
       "      <td>32.540000</td>\n",
       "      <td>1.000000</td>\n",
       "      <td>2.000000</td>\n",
       "      <td>1.000000</td>\n",
       "      <td>3.000000</td>\n",
       "      <td>1.000000</td>\n",
       "      <td>0.499900</td>\n",
       "      <td>14999.000000</td>\n",
       "    </tr>\n",
       "    <tr>\n",
       "      <th>25%</th>\n",
       "      <td>-121.800000</td>\n",
       "      <td>33.930000</td>\n",
       "      <td>18.000000</td>\n",
       "      <td>1447.750000</td>\n",
       "      <td>296.000000</td>\n",
       "      <td>787.000000</td>\n",
       "      <td>280.000000</td>\n",
       "      <td>2.563400</td>\n",
       "      <td>119600.000000</td>\n",
       "    </tr>\n",
       "    <tr>\n",
       "      <th>50%</th>\n",
       "      <td>-118.490000</td>\n",
       "      <td>34.260000</td>\n",
       "      <td>29.000000</td>\n",
       "      <td>2127.000000</td>\n",
       "      <td>435.000000</td>\n",
       "      <td>1166.000000</td>\n",
       "      <td>409.000000</td>\n",
       "      <td>3.534800</td>\n",
       "      <td>179700.000000</td>\n",
       "    </tr>\n",
       "    <tr>\n",
       "      <th>75%</th>\n",
       "      <td>-118.010000</td>\n",
       "      <td>37.710000</td>\n",
       "      <td>37.000000</td>\n",
       "      <td>3148.000000</td>\n",
       "      <td>647.000000</td>\n",
       "      <td>1725.000000</td>\n",
       "      <td>605.000000</td>\n",
       "      <td>4.743250</td>\n",
       "      <td>264725.000000</td>\n",
       "    </tr>\n",
       "    <tr>\n",
       "      <th>max</th>\n",
       "      <td>-114.310000</td>\n",
       "      <td>41.950000</td>\n",
       "      <td>52.000000</td>\n",
       "      <td>39320.000000</td>\n",
       "      <td>6445.000000</td>\n",
       "      <td>35682.000000</td>\n",
       "      <td>6082.000000</td>\n",
       "      <td>15.000100</td>\n",
       "      <td>500001.000000</td>\n",
       "    </tr>\n",
       "  </tbody>\n",
       "</table>\n",
       "</div>"
      ],
      "text/plain": [
       "          longitude      latitude  housing_median_age   total_rooms  \\\n",
       "count  20640.000000  20640.000000        20640.000000  20640.000000   \n",
       "mean    -119.569704     35.631861           28.639486   2635.763081   \n",
       "std        2.003532      2.135952           12.585558   2181.615252   \n",
       "min     -124.350000     32.540000            1.000000      2.000000   \n",
       "25%     -121.800000     33.930000           18.000000   1447.750000   \n",
       "50%     -118.490000     34.260000           29.000000   2127.000000   \n",
       "75%     -118.010000     37.710000           37.000000   3148.000000   \n",
       "max     -114.310000     41.950000           52.000000  39320.000000   \n",
       "\n",
       "       total_bedrooms    population    households  median_income  \\\n",
       "count    20433.000000  20640.000000  20640.000000   20640.000000   \n",
       "mean       537.870553   1425.476744    499.539680       3.870671   \n",
       "std        421.385070   1132.462122    382.329753       1.899822   \n",
       "min          1.000000      3.000000      1.000000       0.499900   \n",
       "25%        296.000000    787.000000    280.000000       2.563400   \n",
       "50%        435.000000   1166.000000    409.000000       3.534800   \n",
       "75%        647.000000   1725.000000    605.000000       4.743250   \n",
       "max       6445.000000  35682.000000   6082.000000      15.000100   \n",
       "\n",
       "       median_house_value  \n",
       "count        20640.000000  \n",
       "mean        206855.816909  \n",
       "std         115395.615874  \n",
       "min          14999.000000  \n",
       "25%         119600.000000  \n",
       "50%         179700.000000  \n",
       "75%         264725.000000  \n",
       "max         500001.000000  "
      ]
     },
     "execution_count": 5,
     "metadata": {},
     "output_type": "execute_result"
    }
   ],
   "source": [
    "# inspect the data\n",
    "\n",
    "# 3. run the .describe() command to get summary statistics\n",
    "\n",
    "housing.describe()"
   ]
  },
  {
   "cell_type": "markdown",
   "id": "2ab10ca9",
   "metadata": {},
   "source": [
    "Note on the data:\n",
    "\n",
    "This is a dataset of districts of California and the housing characteristics of each district. We have the longitude and latitude of the location of the district, we have the average house age in the district, the median house price, the population of the district and the number of households that comprises. We know the total number of rooms per district as well as a subset of the total number of bedrooms. \n",
    "\n",
    "The median income looks strange - this is because it has been scaled. For the purposes of this analysis (and reasonably accurately) you can assume that median income is expressed in 10s of thousands. So a median value of 3.87 represents $38,700. \n",
    "\n",
    "Note also that there is a non-numerical column: ocean_proximity. This is likely to be an important value determinant given the excellent climate of California, so high value will surely be attached to being near the sea. We'll need to convert this variable into a quantitative variable for our analysis."
   ]
  },
  {
   "cell_type": "code",
   "execution_count": 6,
   "id": "5ad1bf1f",
   "metadata": {},
   "outputs": [
    {
     "data": {
      "text/plain": [
       "<1H OCEAN     9136\n",
       "INLAND        6551\n",
       "NEAR OCEAN    2658\n",
       "NEAR BAY      2290\n",
       "ISLAND           5\n",
       "Name: ocean_proximity, dtype: int64"
      ]
     },
     "execution_count": 6,
     "metadata": {},
     "output_type": "execute_result"
    }
   ],
   "source": [
    "# check the ocean_proximity variable\n",
    "\n",
    "housing['ocean_proximity'].value_counts()\n",
    "\n",
    "# note the very low values for 'island' - we might want to merge this into another category in future analysis"
   ]
  },
  {
   "cell_type": "code",
   "execution_count": 7,
   "id": "90fbc75a",
   "metadata": {},
   "outputs": [
    {
     "data": {
      "text/plain": [
       "array([[<AxesSubplot:title={'center':'longitude'}>,\n",
       "        <AxesSubplot:title={'center':'latitude'}>,\n",
       "        <AxesSubplot:title={'center':'housing_median_age'}>],\n",
       "       [<AxesSubplot:title={'center':'total_rooms'}>,\n",
       "        <AxesSubplot:title={'center':'total_bedrooms'}>,\n",
       "        <AxesSubplot:title={'center':'population'}>],\n",
       "       [<AxesSubplot:title={'center':'households'}>,\n",
       "        <AxesSubplot:title={'center':'median_income'}>,\n",
       "        <AxesSubplot:title={'center':'median_house_value'}>]],\n",
       "      dtype=object)"
      ]
     },
     "execution_count": 7,
     "metadata": {},
     "output_type": "execute_result"
    },
    {
     "data": {
      "image/png": "[encoded data removed]",
      "text/plain": [
       "<Figure size 1440x1080 with 9 Axes>"
      ]
     },
     "metadata": {
      "needs_background": "light"
     },
     "output_type": "display_data"
    }
   ],
   "source": [
    "# visually inspect the data\n",
    "\n",
    "housing.hist(bins=50, figsize=(20,15))\n"
   ]
  },
  {
   "cell_type": "markdown",
   "id": "41c25120",
   "metadata": {},
   "source": [
    "Notes on this:\n",
    "\n",
    "The variables median_house_value and housing_median_age are clearly capped. We need to be aware of this in our testing. Practically speaking, our model might predict a house value over $500,000 (the cap level) and be judged as inaccurate, when really its because the dataset itself was capped. \n",
    "\n",
    "Some other data features: (1) theres a long tail to quite a few of the variables, (2) they are at very different scales, and (3) the variables sometimes lack a bell-curve style distribution (e.g. housing_median_age) which works best for linear regression models."
   ]
  },
  {
   "cell_type": "code",
   "execution_count": 8,
   "id": "c7bc3056",
   "metadata": {},
   "outputs": [
    {
     "name": "stdout",
     "output_type": "stream",
     "text": [
      "3    0.348595\n",
      "2    0.317466\n",
      "4    0.178537\n",
      "5    0.115673\n",
      "1    0.039729\n",
      "Name: income_cat, dtype: float64\n",
      "3    0.358527\n",
      "2    0.324370\n",
      "4    0.167393\n",
      "5    0.109496\n",
      "1    0.040213\n",
      "Name: income_cat, dtype: float64\n"
     ]
    }
   ],
   "source": [
    "# creating a training and testing dataset\n",
    "\n",
    "# in the first class we generated a random split between training and testing\n",
    "# this is normally fine *if a random sample is likely to well-represent your overall sample*\n",
    "\n",
    "# first create an income_cat variable so we can inspect the sample distributions\n",
    "housing['income_cat'] = pd.cut(housing['median_income'], bins=[0., 1.5, 3.0, 4.5, 6., np.inf], labels=[1, 2, 3, 4, 5])\n",
    "\n",
    "# then train_test_split\n",
    "train_set, test_set = train_test_split(housing, test_size=0.2, random_state=42)\n",
    "\n",
    "\n",
    "# inspect the split\n",
    "print(train_set['income_cat'].value_counts() / len(train_set))\n",
    "print(test_set['income_cat'].value_counts() / len(test_set))"
   ]
  },
  {
   "cell_type": "code",
   "execution_count": 9,
   "id": "de648275",
   "metadata": {},
   "outputs": [
    {
     "name": "stdout",
     "output_type": "stream",
     "text": [
      "3    0.350594\n",
      "2    0.318859\n",
      "4    0.176296\n",
      "5    0.114402\n",
      "1    0.039850\n",
      "Name: income_cat, dtype: float64\n",
      "3    0.350533\n",
      "2    0.318798\n",
      "4    0.176357\n",
      "5    0.114583\n",
      "1    0.039729\n",
      "Name: income_cat, dtype: float64\n"
     ]
    }
   ],
   "source": [
    "# a better train and test set split: stratified splits\n",
    "\n",
    "split = StratifiedShuffleSplit(n_splits=1, test_size=0.2, random_state=42)\n",
    "for train_index, test_index in split.split(housing, housing['income_cat']):\n",
    "    strat_train_set = housing.loc[train_index]\n",
    "    strat_test_set = housing.loc[test_index]\n",
    "    \n",
    "# inspect the split\n",
    "print(strat_train_set['income_cat'].value_counts() / len(strat_train_set))\n",
    "print(strat_test_set['income_cat'].value_counts() / len(strat_test_set))\n",
    "\n",
    "# although note that you need to choose the 'right' variable to split on\n",
    "\n",
    "# we'll now remove the income_cat variable as we don't need it anymore\n",
    "for set_ in (strat_train_set, strat_test_set):\n",
    "    set_.drop('income_cat', axis=1, inplace=True)"
   ]
  },
  {
   "cell_type": "code",
   "execution_count": 10,
   "id": "f2a18480",
   "metadata": {},
   "outputs": [
    {
     "data": {
      "text/plain": [
       "<AxesSubplot:xlabel='longitude', ylabel='latitude'>"
      ]
     },
     "execution_count": 10,
     "metadata": {},
     "output_type": "execute_result"
    },
    {
     "data": {
      "image/png": "[encoded data removed]",
      "text/plain": [
       "<Figure size 432x288 with 1 Axes>"
      ]
     },
     "metadata": {
      "needs_background": "light"
     },
     "output_type": "display_data"
    }
   ],
   "source": [
    "# further visualisation\n",
    "\n",
    "# first, turn the training dataset into the main housing dataset, as we shouldn't be looking at the test dataset\n",
    "housing = strat_train_set.copy()\n",
    "\n",
    "# let's look at the geography of our dataset\n",
    "housing.plot(kind='scatter', x='longitude', y='latitude')"
   ]
  },
  {
   "cell_type": "code",
   "execution_count": 11,
   "id": "713ae93b",
   "metadata": {},
   "outputs": [
    {
     "data": {
      "text/plain": [
       "<matplotlib.legend.Legend at 0x1117a2302e0>"
      ]
     },
     "execution_count": 11,
     "metadata": {},
     "output_type": "execute_result"
    },
    {
     "data": {
      "image/png": "[encoded data removed]",
      "text/plain": [
       "<Figure size 720x504 with 2 Axes>"
      ]
     },
     "metadata": {
      "needs_background": "light"
     },
     "output_type": "display_data"
    }
   ],
   "source": [
    "# improved geographical inspection: weighting by population\n",
    "\n",
    "housing.plot(kind='scatter', x='longitude', y='latitude', alpha=0.4,\n",
    "            s=housing['population']/100, label='population', figsize=(10,7),\n",
    "             c='median_house_value', cmap=plt.get_cmap('jet'), colorbar=True)\n",
    "plt.legend()"
   ]
  },
  {
   "cell_type": "code",
   "execution_count": 12,
   "id": "a6debc15",
   "metadata": {},
   "outputs": [
    {
     "data": {
      "text/plain": [
       "median_house_value    1.000000\n",
       "median_income         0.687160\n",
       "total_rooms           0.135097\n",
       "housing_median_age    0.114110\n",
       "households            0.064506\n",
       "total_bedrooms        0.047689\n",
       "population           -0.026920\n",
       "longitude            -0.047432\n",
       "latitude             -0.142724\n",
       "Name: median_house_value, dtype: float64"
      ]
     },
     "execution_count": 12,
     "metadata": {},
     "output_type": "execute_result"
    }
   ],
   "source": [
    "# check correlations to get a basic idea of relationships\n",
    "\n",
    "corr_matrix = housing.corr()\n",
    "corr_matrix['median_house_value'].sort_values(ascending=False)"
   ]
  },
  {
   "cell_type": "code",
   "execution_count": 13,
   "id": "c319a056",
   "metadata": {},
   "outputs": [
    {
     "data": {
      "text/plain": [
       "median_house_value          1.000000\n",
       "median_income               0.687160\n",
       "rooms_per_household         0.146285\n",
       "total_rooms                 0.135097\n",
       "housing_median_age          0.114110\n",
       "households                  0.064506\n",
       "total_bedrooms              0.047689\n",
       "population_per_household   -0.021985\n",
       "population                 -0.026920\n",
       "longitude                  -0.047432\n",
       "latitude                   -0.142724\n",
       "bedrooms_per_room          -0.259984\n",
       "Name: median_house_value, dtype: float64"
      ]
     },
     "execution_count": 13,
     "metadata": {},
     "output_type": "execute_result"
    }
   ],
   "source": [
    "# are there any new variables we can create here?\n",
    "\n",
    "housing['rooms_per_household'] = housing['total_rooms'] / housing ['households']\n",
    "housing['bedrooms_per_room'] = housing['total_bedrooms'] / housing['total_rooms']\n",
    "housing['population_per_household'] = housing['population'] / housing['households']\n",
    "\n",
    "corr_matrix = housing.corr()\n",
    "corr_matrix['median_house_value'].sort_values(ascending=False)"
   ]
  },
  {
   "cell_type": "code",
   "execution_count": 14,
   "id": "f02e36c2",
   "metadata": {},
   "outputs": [],
   "source": [
    "# we now have a decent idea of the basic relationships in our data\n",
    "# let's start the formal analysis by creating a clean copy of our housing training dataset\n",
    "# we'll add back in some expected relationships at a later stage\n",
    "\n",
    "housing = strat_train_set.drop(\"median_house_value\", axis=1)\n",
    "housing_labels = strat_train_set['median_house_value'].copy()"
   ]
  },
  {
   "cell_type": "markdown",
   "id": "3a207c34",
   "metadata": {},
   "source": [
    "Note: here, I am going to manually show the individual steps needed, later in the analysis I will demonstrate how to combine these steps in a near-automated way. The combination stage is important, as it allows us to quickly transform future datasets in the same way. "
   ]
  },
  {
   "cell_type": "code",
   "execution_count": 15,
   "id": "80741e13",
   "metadata": {},
   "outputs": [
    {
     "name": "stdout",
     "output_type": "stream",
     "text": [
      "<class 'pandas.core.frame.DataFrame'>\n",
      "Int64Index: 16512 entries, 17606 to 15775\n",
      "Data columns (total 9 columns):\n",
      " #   Column              Non-Null Count  Dtype  \n",
      "---  ------              --------------  -----  \n",
      " 0   longitude           16512 non-null  float64\n",
      " 1   latitude            16512 non-null  float64\n",
      " 2   housing_median_age  16512 non-null  float64\n",
      " 3   total_rooms         16512 non-null  float64\n",
      " 4   total_bedrooms      16354 non-null  float64\n",
      " 5   population          16512 non-null  float64\n",
      " 6   households          16512 non-null  float64\n",
      " 7   median_income       16512 non-null  float64\n",
      " 8   ocean_proximity     16512 non-null  object \n",
      "dtypes: float64(8), object(1)\n",
      "memory usage: 1.3+ MB\n"
     ]
    }
   ],
   "source": [
    "# first, note the missing data for total_bedrooms\n",
    "\n",
    "housing.info()"
   ]
  },
  {
   "cell_type": "code",
   "execution_count": 16,
   "id": "c833b97f",
   "metadata": {},
   "outputs": [
    {
     "name": "stdout",
     "output_type": "stream",
     "text": [
      "[-118.51     34.26     29.     2119.5     433.     1164.      408.\n",
      "    3.5409]\n",
      "<class 'pandas.core.frame.DataFrame'>\n",
      "Int64Index: 16512 entries, 17606 to 15775\n",
      "Data columns (total 8 columns):\n",
      " #   Column              Non-Null Count  Dtype  \n",
      "---  ------              --------------  -----  \n",
      " 0   longitude           16512 non-null  float64\n",
      " 1   latitude            16512 non-null  float64\n",
      " 2   housing_median_age  16512 non-null  float64\n",
      " 3   total_rooms         16512 non-null  float64\n",
      " 4   total_bedrooms      16512 non-null  float64\n",
      " 5   population          16512 non-null  float64\n",
      " 6   households          16512 non-null  float64\n",
      " 7   median_income       16512 non-null  float64\n",
      "dtypes: float64(8)\n",
      "memory usage: 1.1 MB\n"
     ]
    }
   ],
   "source": [
    "# 1. Handling missing data\n",
    "\n",
    "# ideally we don't want to lose those rows of data, so we will 'impute' estimates for missing values\n",
    "\n",
    "# set up the imputer - we normally go with a median strategy absent good information to the contrary\n",
    "imputer = SimpleImputer(strategy='median')\n",
    "\n",
    "# we need to temporarily drop ocean_proximity as it is not a numerical value\n",
    "housing_num = housing.drop('ocean_proximity', axis=1)\n",
    "\n",
    "# even though total_bedrooms is the only column with missing values, we will calculate imputed values for all columns\n",
    "# this future-proofs our code in case future data has missing values for other columns\n",
    "imputer.fit(housing_num)\n",
    "imputer.statistics_\n",
    "housing_num.median().values\n",
    "print(housing_num.median().values) # check\n",
    "X = imputer.transform(housing_num) # creates a matrix with all missing values transformed to imputed values\n",
    "housing_tr = pd.DataFrame(X, columns=housing_num.columns, \n",
    "                          index=housing_num.index) # transforms matrix back to a dataframe\n",
    "\n",
    "# check it has worked\n",
    "housing_tr.info()"
   ]
  },
  {
   "cell_type": "code",
   "execution_count": 17,
   "id": "2b0f6911",
   "metadata": {},
   "outputs": [
    {
     "name": "stdout",
     "output_type": "stream",
     "text": [
      "['<1H OCEAN' 'NEAR OCEAN' 'INLAND' 'NEAR BAY' 'ISLAND']\n",
      "      ocean_proximity\n",
      "17606       <1H OCEAN\n",
      "18632       <1H OCEAN\n",
      "14650      NEAR OCEAN\n",
      "3230           INLAND\n",
      "3555        <1H OCEAN\n",
      "19480          INLAND\n",
      "8879        <1H OCEAN\n",
      "13685          INLAND\n",
      "4937        <1H OCEAN\n",
      "4861        <1H OCEAN\n"
     ]
    }
   ],
   "source": [
    "# 2. Handling text data in the form of categories\n",
    "\n",
    "# first, we'll make a series of the ocean_proximity data to see how to transform it\n",
    "housing_cat = housing[['ocean_proximity']]\n",
    "print(housing_cat['ocean_proximity'].unique())\n",
    "print(housing_cat.head(10))"
   ]
  },
  {
   "cell_type": "code",
   "execution_count": 18,
   "id": "e772bce3",
   "metadata": {},
   "outputs": [
    {
     "data": {
      "text/plain": [
       "array([[1., 0., 0., 0., 0.],\n",
       "       [1., 0., 0., 0., 0.],\n",
       "       [0., 0., 0., 0., 1.],\n",
       "       ...,\n",
       "       [0., 1., 0., 0., 0.],\n",
       "       [1., 0., 0., 0., 0.],\n",
       "       [0., 0., 0., 1., 0.]])"
      ]
     },
     "execution_count": 18,
     "metadata": {},
     "output_type": "execute_result"
    }
   ],
   "source": [
    "# we will use OneHotEncoder to turn this data into dummy category variables\n",
    "\n",
    "cat_encoder = OneHotEncoder()\n",
    "housing_cat_1hot = cat_encoder.fit_transform(housing_cat)\n",
    "housing_cat_1hot.toarray()"
   ]
  },
  {
   "cell_type": "code",
   "execution_count": 19,
   "id": "76c6cb90",
   "metadata": {},
   "outputs": [
    {
     "data": {
      "text/plain": [
       "[array(['<1H OCEAN', 'INLAND', 'ISLAND', 'NEAR BAY', 'NEAR OCEAN'],\n",
       "       dtype=object)]"
      ]
     },
     "execution_count": 19,
     "metadata": {},
     "output_type": "execute_result"
    }
   ],
   "source": [
    "cat_encoder.categories_\n",
    "\n",
    "# look back to the housing_cat.head() output to confirm that coding makes sense"
   ]
  },
  {
   "cell_type": "code",
   "execution_count": 20,
   "id": "7b8f87f2",
   "metadata": {},
   "outputs": [
    {
     "data": {
      "text/html": [
       "<div>\n",
       "<style scoped>\n",
       "    .dataframe tbody tr th:only-of-type {\n",
       "        vertical-align: middle;\n",
       "    }\n",
       "\n",
       "    .dataframe tbody tr th {\n",
       "        vertical-align: top;\n",
       "    }\n",
       "\n",
       "    .dataframe thead th {\n",
       "        text-align: right;\n",
       "    }\n",
       "</style>\n",
       "<table border=\"1\" class=\"dataframe\">\n",
       "  <thead>\n",
       "    <tr style=\"text-align: right;\">\n",
       "      <th></th>\n",
       "      <th>longitude</th>\n",
       "      <th>latitude</th>\n",
       "      <th>housing_median_age</th>\n",
       "      <th>total_rooms</th>\n",
       "      <th>total_bedrooms</th>\n",
       "      <th>population</th>\n",
       "      <th>households</th>\n",
       "      <th>median_income</th>\n",
       "    </tr>\n",
       "  </thead>\n",
       "  <tbody>\n",
       "    <tr>\n",
       "      <th>count</th>\n",
       "      <td>16512.00</td>\n",
       "      <td>16512.00</td>\n",
       "      <td>16512.00</td>\n",
       "      <td>16512.00</td>\n",
       "      <td>16354.00</td>\n",
       "      <td>16512.00</td>\n",
       "      <td>16512.00</td>\n",
       "      <td>16512.00</td>\n",
       "    </tr>\n",
       "    <tr>\n",
       "      <th>mean</th>\n",
       "      <td>-0.00</td>\n",
       "      <td>0.00</td>\n",
       "      <td>-0.00</td>\n",
       "      <td>0.00</td>\n",
       "      <td>0.00</td>\n",
       "      <td>-0.00</td>\n",
       "      <td>0.00</td>\n",
       "      <td>-0.00</td>\n",
       "    </tr>\n",
       "    <tr>\n",
       "      <th>std</th>\n",
       "      <td>1.00</td>\n",
       "      <td>1.00</td>\n",
       "      <td>1.00</td>\n",
       "      <td>1.00</td>\n",
       "      <td>1.00</td>\n",
       "      <td>1.00</td>\n",
       "      <td>1.00</td>\n",
       "      <td>1.00</td>\n",
       "    </tr>\n",
       "    <tr>\n",
       "      <th>min</th>\n",
       "      <td>-2.38</td>\n",
       "      <td>-1.45</td>\n",
       "      <td>-2.20</td>\n",
       "      <td>-1.22</td>\n",
       "      <td>-1.29</td>\n",
       "      <td>-1.27</td>\n",
       "      <td>-1.32</td>\n",
       "      <td>-1.77</td>\n",
       "    </tr>\n",
       "    <tr>\n",
       "      <th>25%</th>\n",
       "      <td>-1.11</td>\n",
       "      <td>-0.79</td>\n",
       "      <td>-0.85</td>\n",
       "      <td>-0.55</td>\n",
       "      <td>-0.58</td>\n",
       "      <td>-0.57</td>\n",
       "      <td>-0.58</td>\n",
       "      <td>-0.69</td>\n",
       "    </tr>\n",
       "    <tr>\n",
       "      <th>50%</th>\n",
       "      <td>0.53</td>\n",
       "      <td>-0.65</td>\n",
       "      <td>0.03</td>\n",
       "      <td>-0.24</td>\n",
       "      <td>-0.25</td>\n",
       "      <td>-0.23</td>\n",
       "      <td>-0.24</td>\n",
       "      <td>-0.18</td>\n",
       "    </tr>\n",
       "    <tr>\n",
       "      <th>75%</th>\n",
       "      <td>0.78</td>\n",
       "      <td>0.97</td>\n",
       "      <td>0.66</td>\n",
       "      <td>0.24</td>\n",
       "      <td>0.26</td>\n",
       "      <td>0.27</td>\n",
       "      <td>0.28</td>\n",
       "      <td>0.46</td>\n",
       "    </tr>\n",
       "    <tr>\n",
       "      <th>max</th>\n",
       "      <td>2.63</td>\n",
       "      <td>2.95</td>\n",
       "      <td>1.86</td>\n",
       "      <td>17.16</td>\n",
       "      <td>13.75</td>\n",
       "      <td>30.71</td>\n",
       "      <td>12.94</td>\n",
       "      <td>5.84</td>\n",
       "    </tr>\n",
       "  </tbody>\n",
       "</table>\n",
       "</div>"
      ],
      "text/plain": [
       "       longitude  latitude  housing_median_age  total_rooms  total_bedrooms  \\\n",
       "count   16512.00  16512.00            16512.00     16512.00        16354.00   \n",
       "mean       -0.00      0.00               -0.00         0.00            0.00   \n",
       "std         1.00      1.00                1.00         1.00            1.00   \n",
       "min        -2.38     -1.45               -2.20        -1.22           -1.29   \n",
       "25%        -1.11     -0.79               -0.85        -0.55           -0.58   \n",
       "50%         0.53     -0.65                0.03        -0.24           -0.25   \n",
       "75%         0.78      0.97                0.66         0.24            0.26   \n",
       "max         2.63      2.95                1.86        17.16           13.75   \n",
       "\n",
       "       population  households  median_income  \n",
       "count    16512.00    16512.00       16512.00  \n",
       "mean        -0.00        0.00          -0.00  \n",
       "std          1.00        1.00           1.00  \n",
       "min         -1.27       -1.32          -1.77  \n",
       "25%         -0.57       -0.58          -0.69  \n",
       "50%         -0.23       -0.24          -0.18  \n",
       "75%          0.27        0.28           0.46  \n",
       "max         30.71       12.94           5.84  "
      ]
     },
     "execution_count": 20,
     "metadata": {},
     "output_type": "execute_result"
    }
   ],
   "source": [
    "# 3. Scaling datasets\n",
    "# Machine learning algorithms work best when all variables are on the same scale\n",
    "# We can use the sklearn StandardScaler for this\n",
    "\n",
    "scale = StandardScaler()\n",
    "housing_scale = scale.fit_transform(housing_num) \n",
    "# we use housing_num for this example as it excludes ocean_proximity, a text variable which can't be scaled\n",
    "housing_sc = pd.DataFrame(housing_scale, columns=housing_num.columns, \n",
    "                          index=housing_num.index) # transforms matrix back to a dataframe\n",
    "\n",
    "housing_sc.describe().round(2) # check it works .describe()"
   ]
  },
  {
   "cell_type": "code",
   "execution_count": 23,
   "id": "bf23e5ab",
   "metadata": {},
   "outputs": [],
   "source": [
    "# 4. Transformers to semi-automate workflow\n",
    "# Transformers are codes that allow you to quickly transform data \n",
    "# The idea here is that you build up a collection of these over time and then can easily apply them to new datasets\n",
    "\n",
    "# this bit is confusing. But we need to first set up some 'classes' called fit() and transform()\n",
    "\n",
    "rooms_ix, bedrooms_ix, population_ix, household_ix = [\n",
    "    list(housing.columns).index(col)\n",
    "    for col in (\"total_rooms\", \"total_bedrooms\", \"population\", \"households\")]\n",
    "\n",
    "class CombinedAttributesAdder(BaseEstimator, TransformerMixin):\n",
    "    def __init__(self, add_bedrooms_per_room = True):\n",
    "        self.add_bedrooms_per_room = add_bedrooms_per_room\n",
    "    def fit(self, X, y=None):\n",
    "        return self\n",
    "    def transform(self, X):\n",
    "        rooms_per_household = X[:, rooms_ix] / X[:, household_ix]\n",
    "        population_per_household = X[:, population_ix] / X[:, household_ix]\n",
    "        if self.add_bedrooms_per_room:\n",
    "            bedrooms_per_room = X[:, bedrooms_ix] / X[:, rooms_ix]\n",
    "            return np.c_[X, rooms_per_household, population_per_household,\n",
    "                       bedrooms_per_room]\n",
    "        else:\n",
    "            return np.c_[X, rooms_per_household, population_per_household]\n",
    "        \n",
    "attr_adder = CombinedAttributesAdder(add_bedrooms_per_room = False)\n",
    "housing_extra_attribs = attr_adder.transform(housing.values)\n"
   ]
  },
  {
   "cell_type": "code",
   "execution_count": 24,
   "id": "9c4eaf93",
   "metadata": {},
   "outputs": [
    {
     "name": "stdout",
     "output_type": "stream",
     "text": [
      "[[-1.15604281  0.77194962  0.74333089 -0.49323393 -0.44543821 -0.63621141\n",
      "  -0.42069842 -0.61493744 -0.31205452 -0.08649871  0.15531753  1.\n",
      "   0.          0.          0.          0.        ]\n",
      " [-1.17602483  0.6596948  -1.1653172  -0.90896655 -1.0369278  -0.99833135\n",
      "  -1.02222705  1.33645936  0.21768338 -0.03353391 -0.83628902  1.\n",
      "   0.          0.          0.          0.        ]\n",
      " [ 1.18684903 -1.34218285  0.18664186 -0.31365989 -0.15334458 -0.43363936\n",
      "  -0.0933178  -0.5320456  -0.46531516 -0.09240499  0.4222004   0.\n",
      "   0.          0.          0.          1.        ]\n",
      " [-0.01706767  0.31357576 -0.29052016 -0.36276217 -0.39675594  0.03604096\n",
      "  -0.38343559 -1.04556555 -0.07966124  0.08973561 -0.19645314  0.\n",
      "   1.          0.          0.          0.        ]\n",
      " [ 0.49247384 -0.65929936 -0.92673619  1.85619316  2.41221109  2.72415407\n",
      "   2.57097492 -0.44143679 -0.35783383 -0.00419445  0.2699277   1.\n",
      "   0.          0.          0.          0.        ]]\n"
     ]
    }
   ],
   "source": [
    "# 5. Combine all steps together in a pipeline\n",
    "# Pipelines help us ensure we are working on data transformation in the right sequential steps\n",
    "# Our steps are: (1) Impute missing data, (2) Add new attributes, (3) Scale the data, (4) Transform the category text data\n",
    "\n",
    "# Step 5.1. Divide data into numerical and text columns\n",
    "\n",
    "num_attribs = list(housing_num)\n",
    "cat_attribs = ['ocean_proximity']\n",
    "\n",
    "# Step 5.2. Set up all numerical transformations\n",
    "\n",
    "num_pipeline = Pipeline([\n",
    "    ('imputer', SimpleImputer(strategy='median')),\n",
    "    ('attribs_adder', CombinedAttributesAdder()),\n",
    "    ('std_scaler', StandardScaler())\n",
    "])\n",
    "\n",
    "# Step 5.3. Add together number and text transformations\n",
    "\n",
    "full_pipeline = ColumnTransformer([\n",
    "    ('num', num_pipeline, num_attribs),\n",
    "    ('cat', OneHotEncoder(), cat_attribs)\n",
    "])\n",
    "\n",
    "housing_prepared = full_pipeline.fit_transform(housing)\n",
    "\n",
    "print(housing_prepared[:5,:])"
   ]
  },
  {
   "cell_type": "markdown",
   "id": "5ee4dc82",
   "metadata": {},
   "source": [
    "## Part 2: Linear regression"
   ]
  },
  {
   "cell_type": "code",
   "execution_count": 25,
   "id": "cbacd005",
   "metadata": {},
   "outputs": [
    {
     "data": {
      "text/plain": [
       "LinearRegression()"
      ]
     },
     "execution_count": 25,
     "metadata": {},
     "output_type": "execute_result"
    }
   ],
   "source": [
    "# basic model\n",
    "\n",
    "lr = LinearRegression()\n",
    "lr.fit(housing_prepared, housing_labels)\n",
    "\n",
    "# we have now set up the model and can apply it to predict and to check accuracy"
   ]
  },
  {
   "cell_type": "code",
   "execution_count": 26,
   "id": "05de49b2",
   "metadata": {},
   "outputs": [
    {
     "name": "stdout",
     "output_type": "stream",
     "text": [
      "Predicted prices:  [210644.6 317768.8 210956.4  59219.  189747.6]\n",
      "Actual prices:  [286600.0, 340600.0, 196900.0, 46300.0, 254500.0]\n"
     ]
    }
   ],
   "source": [
    "# using our model to predict\n",
    "\n",
    "predict_test_data = housing.iloc[:5]\n",
    "predict_test_labels = housing_labels.iloc[:5]\n",
    "\n",
    "predict_test_data_prep = full_pipeline.transform(predict_test_data)\n",
    "\n",
    "print(\"Predicted prices: \", lr.predict(predict_test_data_prep).round(1))\n",
    "\n",
    "print(\"Actual prices: \", list(predict_test_labels))"
   ]
  },
  {
   "cell_type": "code",
   "execution_count": 27,
   "id": "d16aa670",
   "metadata": {},
   "outputs": [
    {
     "data": {
      "text/plain": [
       "(236914.99732815986,\n",
       " array([-55650.4116403 , -56716.45236929,  13732.83841856,  -1933.1277138 ,\n",
       "          7330.04062103, -45708.26306673,  45455.47519691,  74714.39134154,\n",
       "          6605.12802802,   1042.95709453,   9249.75886697, -18016.52432168,\n",
       "        -55219.15208555, 110357.78363967, -22479.84008184, -14642.2671506 ]))"
      ]
     },
     "execution_count": 27,
     "metadata": {},
     "output_type": "execute_result"
    }
   ],
   "source": [
    "# intercept and betas\n",
    "\n",
    "lr.intercept_, lr.coef_"
   ]
  },
  {
   "cell_type": "code",
   "execution_count": 28,
   "id": "d87143cb",
   "metadata": {},
   "outputs": [
    {
     "data": {
      "text/plain": [
       "68628.19819848922"
      ]
     },
     "execution_count": 28,
     "metadata": {},
     "output_type": "execute_result"
    }
   ],
   "source": [
    "# check accuracy of our model\n",
    "#  we used a package called 'accuracy_score' for logistic regression, for linear regression we use RMSE (see notes).\n",
    "#  Note: for now we are just working with the training dataset, not the unseen test dataset\n",
    "\n",
    "housing_predictions = lr.predict(housing_prepared)\n",
    "lin_rmse = mean_squared_error(housing_labels, housing_predictions)\n",
    "lin_rmse = np.sqrt(lin_rmse) # we need to get square root, as it is ROOT mean square error\n",
    "lin_rmse\n",
    "\n",
    "# results aren't great so far. A $68,628 typical prediction error on predicting house prices that have an \n",
    "# interquartile range of $120,000 to $265,000. "
   ]
  },
  {
   "cell_type": "code",
   "execution_count": 29,
   "id": "624ea197",
   "metadata": {},
   "outputs": [
    {
     "name": "stdout",
     "output_type": "stream",
     "text": [
      "Scores:  [66782.73843989 66960.118071   70347.95244419 74739.57052552\n",
      " 68031.13388938 71193.84183426 64969.63056405 68281.61137997\n",
      " 71552.91566558 67665.10082067]\n",
      "Mean:  69052.46136345083\n",
      "Standard deviation:  2731.674001798347\n"
     ]
    }
   ],
   "source": [
    "# cross-validation scores as a better method of applying RMSE\n",
    "#  a quirk of cross validation scores is that they calculate the inverse of RMSE, hence why the method we apply is\n",
    "#  called negative_RMSE. We reverse this when taking the square root (notice it is minus-lin_scores)\n",
    "\n",
    "lin_scores = cross_val_score(lr, housing_prepared, housing_labels,\n",
    "                            scoring=\"neg_mean_squared_error\", cv=10)\n",
    "\n",
    "lin_rmse_scores = np.sqrt(-lin_scores)\n",
    "\n",
    "def display_scores(scores):\n",
    "    print(\"Scores: \", scores)\n",
    "    print(\"Mean: \", scores.mean())\n",
    "    print(\"Standard deviation: \", scores.std())\n",
    "\n",
    "display_scores(lin_rmse_scores)\n",
    "\n",
    "# the mean score is even worse than the basic model, but we can have more confidence in the score"
   ]
  },
  {
   "cell_type": "code",
   "execution_count": 30,
   "id": "e6200ad5",
   "metadata": {},
   "outputs": [
    {
     "data": {
      "text/plain": [
       "68628.19819848922"
      ]
     },
     "execution_count": 30,
     "metadata": {},
     "output_type": "execute_result"
    }
   ],
   "source": [
    "# alternative estimation with gradient descent\n",
    "#   see notes\n",
    "\n",
    "sgd = SGDRegressor(max_iter=1000, tol=1e-3, penalty=None, eta0=0.1)\n",
    "sgd.fit(housing_prepared, housing_labels)\n",
    "\n",
    "sgd_housing_predictions = sgd.predict(housing_prepared)\n",
    "sgd_rmse = mean_squared_error(housing_labels, housing_predictions)\n",
    "sgd_rmse = np.sqrt(sgd_rmse) \n",
    "sgd_rmse\n",
    "\n",
    "# note: exact same answer as LinearRegression, but better algorithm for complicated linear regression analysis"
   ]
  },
  {
   "cell_type": "code",
   "execution_count": 31,
   "id": "067b3033",
   "metadata": {},
   "outputs": [
    {
     "data": {
      "text/plain": [
       "{'fit_intercept': True}"
      ]
     },
     "execution_count": 31,
     "metadata": {},
     "output_type": "execute_result"
    }
   ],
   "source": [
    "# improving estimation with gridsearch\n",
    "#    A very very basic implementation, as largely linear regression doesn't have parameters\n",
    "\n",
    "param_grid = {\"fit_intercept\": [True, False] \n",
    "             }\n",
    "\n",
    "grid_search = GridSearchCV(lr, param_grid, cv=10,\n",
    "                          scoring=\"neg_mean_squared_error\", return_train_score=True)\n",
    "\n",
    "grid_search.fit(housing_prepared, housing_labels)\n",
    "\n",
    "grid_search.best_params_\n",
    "\n",
    "# as expected the output says it is important to include an intercept\n",
    "#  we'll use the gridsearch to much better effect in the next stage of analysis"
   ]
  },
  {
   "cell_type": "code",
   "execution_count": 34,
   "id": "681d08bc",
   "metadata": {},
   "outputs": [
    {
     "name": "stdout",
     "output_type": "stream",
     "text": [
      "Scores:  [68480.1097024  66538.28485267 71235.14733717 69488.93630443\n",
      " 71092.24012237 74578.38551641 71646.23382621 71291.44509827\n",
      " 76300.47062032 68466.02197375]\n",
      "Mean:  70911.72753539945\n",
      "Standard deviation:  2763.139150169498\n"
     ]
    }
   ],
   "source": [
    "# Decision Trees as a form of nested regression models\n",
    "#   see notes\n",
    "\n",
    "# basic decision tree model\n",
    "\n",
    "# set up the model\n",
    "dt = DecisionTreeRegressor()\n",
    "dt.fit(housing_prepared, housing_labels)\n",
    "\n",
    "# test accuracy using cross-validation scores\n",
    "dt_scores = cross_val_score(dt, housing_prepared, housing_labels,\n",
    "                           scoring=\"neg_mean_squared_error\", cv=10)\n",
    "dt_scores_rmse = np.sqrt(-dt_scores)\n",
    "display_scores(dt_scores_rmse)\n",
    "\n",
    "# note: at the moment the average error, $70,911, is even higher than the basic regression"
   ]
  },
  {
   "cell_type": "code",
   "execution_count": 37,
   "id": "43cecbd6",
   "metadata": {},
   "outputs": [
    {
     "name": "stdout",
     "output_type": "stream",
     "text": [
      "Training dataset RMSE:  18699.740222598608\n",
      "Scores:  [49419.28308403 47628.5534584  49775.64674951 52251.7739635\n",
      " 49812.97585181 53608.78212583 48695.10576285 48136.76347354\n",
      " 52694.44669811 49823.59792911]\n",
      "Mean:  50184.692909669044\n",
      "Standard deviation:  1904.3251554809235\n"
     ]
    }
   ],
   "source": [
    "# Random Forest regression as a collection of decision trees\n",
    "#  See notes\n",
    "\n",
    "forest = RandomForestRegressor()\n",
    "forest.fit(housing_prepared, housing_labels)\n",
    "\n",
    "housing_pred = forest.predict(housing_prepared)\n",
    "housing_mse = mean_squared_error(housing_labels, housing_pred)\n",
    "housing_rmse = np.sqrt(housing_mse)\n",
    "print(\"Training dataset RMSE: \", housing_rmse)\n",
    "\n",
    "forest_scores_cv = cross_val_score(forest, housing_prepared, housing_labels,\n",
    "                               scoring=\"neg_mean_squared_error\", cv=10)\n",
    "forest_rmse_cv = np.sqrt(-forest_scores_cv)\n",
    "display_scores(forest_rmse_cv)\n",
    "\n",
    "# This is quite computationally difficult, so might take a while to run\n",
    "# Note the big reduction - almost by $20,000 - in the prediction error "
   ]
  },
  {
   "cell_type": "code",
   "execution_count": 42,
   "id": "a02bb33f",
   "metadata": {},
   "outputs": [
    {
     "data": {
      "text/plain": [
       "{'max_features': 6, 'n_estimators': 30}"
      ]
     },
     "execution_count": 42,
     "metadata": {},
     "output_type": "execute_result"
    }
   ],
   "source": [
    "# let's fine-tune our model using GridSearch\n",
    "\n",
    "param_grid = [\n",
    "    {'n_estimators': [3, 10, 30], 'max_features': [2, 4, 6, 8]},\n",
    "    {'bootstrap': [False], 'n_estimators': [3, 10], 'max_features': [2, 3, 4]}\n",
    "]\n",
    "\n",
    "grid_forest = GridSearchCV(forest, param_grid, cv=5,\n",
    "                          scoring='neg_mean_squared_error',\n",
    "                          return_train_score=True)\n",
    "\n",
    "grid_forest.fit(housing_prepared, housing_labels)\n",
    "\n",
    "grid_forest.best_params_"
   ]
  },
  {
   "cell_type": "code",
   "execution_count": 41,
   "id": "94e2a481",
   "metadata": {},
   "outputs": [
    {
     "name": "stdout",
     "output_type": "stream",
     "text": [
      "64176.10573187238 {'max_features': 2, 'n_estimators': 3}\n",
      "56345.93979887553 {'max_features': 2, 'n_estimators': 10}\n",
      "52660.397782716645 {'max_features': 2, 'n_estimators': 30}\n",
      "59645.22601391004 {'max_features': 4, 'n_estimators': 3}\n",
      "52901.8961353865 {'max_features': 4, 'n_estimators': 10}\n",
      "50569.63781900424 {'max_features': 4, 'n_estimators': 30}\n",
      "58440.03701432851 {'max_features': 6, 'n_estimators': 3}\n",
      "51899.33578209233 {'max_features': 6, 'n_estimators': 10}\n",
      "50179.56673927663 {'max_features': 6, 'n_estimators': 30}\n",
      "58758.46178507249 {'max_features': 8, 'n_estimators': 3}\n",
      "51947.64766890937 {'max_features': 8, 'n_estimators': 10}\n",
      "50150.711305636134 {'max_features': 8, 'n_estimators': 30}\n",
      "62080.158957914195 {'bootstrap': False, 'max_features': 2, 'n_estimators': 3}\n",
      "54857.74729648174 {'bootstrap': False, 'max_features': 2, 'n_estimators': 10}\n",
      "59666.71045876783 {'bootstrap': False, 'max_features': 3, 'n_estimators': 3}\n",
      "52613.43993165063 {'bootstrap': False, 'max_features': 3, 'n_estimators': 10}\n",
      "58785.59019769082 {'bootstrap': False, 'max_features': 4, 'n_estimators': 3}\n",
      "51562.150039427455 {'bootstrap': False, 'max_features': 4, 'n_estimators': 10}\n"
     ]
    }
   ],
   "source": [
    "# check all the GridSearch results\n",
    "\n",
    "cvres = grid_forest.cv_results_\n",
    "\n",
    "for mean_score, params in zip(cvres['mean_test_score'], cvres['params']):\n",
    "    print(np.sqrt(-mean_score), params)"
   ]
  },
  {
   "cell_type": "code",
   "execution_count": 43,
   "id": "35b66422",
   "metadata": {},
   "outputs": [
    {
     "data": {
      "text/plain": [
       "[(0.3462446135074532, 'median_income'),\n",
       " (0.14972901189198976, 'INLAND'),\n",
       " (0.11023749712102797, 'pop_per_hhold'),\n",
       " (0.07502201324346143, 'latitude'),\n",
       " (0.07071054824796046, 'longitude'),\n",
       " (0.06648686760720304, 'rooms_per_hhold'),\n",
       " (0.05269756264798555, 'bedrooms_per_room'),\n",
       " (0.04407216808278216, 'housing_median_age'),\n",
       " (0.01883866805054079, 'total_rooms'),\n",
       " (0.017818521764855398, 'population'),\n",
       " (0.01697162733141117, 'total_bedrooms'),\n",
       " (0.016426291965905282, 'households'),\n",
       " (0.007766505999015561, '<1H OCEAN'),\n",
       " (0.00476609418901749, 'NEAR OCEAN'),\n",
       " (0.0020651879484700772, 'NEAR BAY'),\n",
       " (0.00014682040092066308, 'ISLAND')]"
      ]
     },
     "execution_count": 43,
     "metadata": {},
     "output_type": "execute_result"
    }
   ],
   "source": [
    "# check what particularly works in the 'best model'\n",
    "\n",
    "feature_importances = grid_forest.best_estimator_.feature_importances_\n",
    "\n",
    "# lets now attach names to each of the features\n",
    "# 1. Add new variables created\n",
    "extra_attribs = ['rooms_per_hhold', 'pop_per_hhold', 'bedrooms_per_room']\n",
    "# 2. Add names to created category variables\n",
    "cat_encoder = full_pipeline.named_transformers_['cat']\n",
    "cat_one_hot_attribs = list(cat_encoder.categories_[0])\n",
    "# 3. Add 1 and 2 together with the already named columns\n",
    "attributes = num_attribs + extra_attribs + cat_one_hot_attribs\n",
    "sorted(zip(feature_importances, attributes), reverse=True)\n",
    "\n",
    "# we could probably refine the model further based on these results\n",
    "# combine all the non-inland ocean_proximity features into 'near_sea' maybe?\n",
    "# create a new combination variable of ocean_proximity plus latitude/longitude\n",
    "# see what other data could be added to improve predictive power"
   ]
  },
  {
   "cell_type": "code",
   "execution_count": 45,
   "id": "0729b601",
   "metadata": {},
   "outputs": [
    {
     "data": {
      "text/plain": [
       "47811.23512765606"
      ]
     },
     "execution_count": 45,
     "metadata": {},
     "output_type": "execute_result"
    }
   ],
   "source": [
    "# up until now we haven't used the test dataset that we locked away at the beginning of the analysis\n",
    "#  we'll now test our model on this airlocked data to check we haven't overfit\n",
    "\n",
    "final_model = grid_forest.best_estimator_\n",
    "\n",
    "X_test = strat_test_set.drop('median_house_value', axis=1)\n",
    "y_test = strat_test_set['median_house_value'].copy()\n",
    "\n",
    "X_test_prepared = full_pipeline.transform(X_test)\n",
    "final_predictions = final_model.predict(X_test_prepared)\n",
    "final_mse = mean_squared_error(y_test, final_predictions)\n",
    "final_rmse = np.sqrt(final_mse)\n",
    "final_rmse"
   ]
  },
  {
   "cell_type": "code",
   "execution_count": 47,
   "id": "9b7fce33",
   "metadata": {},
   "outputs": [
    {
     "data": {
      "text/plain": [
       "array([45833.03029728, 49710.78094974])"
      ]
     },
     "execution_count": 47,
     "metadata": {},
     "output_type": "execute_result"
    }
   ],
   "source": [
    "# we might also want a confidence interval on this error estimate\n",
    "\n",
    "confidence = 0.95\n",
    "squared_errors = (final_predictions - y_test) ** 2\n",
    "np.sqrt(stats.t.interval(confidence, len(squared_errors) - 1,\n",
    "                        loc=squared_errors.mean(),\n",
    "                        scale=stats.sem(squared_errors)))"
   ]
  },
  {
   "cell_type": "markdown",
   "id": "369accb6",
   "metadata": {},
   "source": [
    "## Part 3: More advanced regression models"
   ]
  },
  {
   "cell_type": "markdown",
   "id": "b086d381",
   "metadata": {},
   "source": [
    "We'll start by considering 'constrained regression models' or 'regularised linear models' that force the final model to be as efficient as possible. Usually by reducing model features that don't add much explanatory power, through the introduction of a cost function that variables need to 'beat' to be retained in the model. We'll consider three types of these models: Ridge regression, Lasso regression, and Elastic Net regressions. Normally we would just pick one of these, rather than run all three, as they are similar in intent and (usually) outcome. Ridge is the default method that is normally used."
   ]
  },
  {
   "cell_type": "code",
   "execution_count": 56,
   "id": "af33ff33",
   "metadata": {},
   "outputs": [
    {
     "data": {
      "text/plain": [
       "68656.7704108737"
      ]
     },
     "execution_count": 56,
     "metadata": {},
     "output_type": "execute_result"
    }
   ],
   "source": [
    "# 1. Ridge regression\n",
    "\n",
    "ridge_reg = Ridge(alpha=1, solver='cholesky')\n",
    "ridge_reg.fit(housing_prepared, housing_labels)\n",
    "\n",
    "ridge_pred = ridge_reg.predict(housing_prepared)\n",
    "ridge_mse = mean_squared_error(housing_labels, ridge_pred)\n",
    "ridge_rmse = np.sqrt(ridge_mse)\n",
    "ridge_rmse"
   ]
  },
  {
   "cell_type": "code",
   "execution_count": 83,
   "id": "80f2254d",
   "metadata": {},
   "outputs": [
    {
     "data": {
      "text/plain": [
       "array([-51374.69771553, -52184.51188821,  13850.92291565,  -1608.15969408,\n",
       "         9578.38462497, -44104.63668681,  41415.30393652,  74683.70926912,\n",
       "         6084.66127196,    872.39141797,   9030.90298957,   8571.54022817,\n",
       "       -31029.25143636,   5317.20768457,   4658.86594404,  12481.63757955])"
      ]
     },
     "execution_count": 83,
     "metadata": {},
     "output_type": "execute_result"
    }
   ],
   "source": [
    "ridge_reg.coef_"
   ]
  },
  {
   "cell_type": "code",
   "execution_count": 79,
   "id": "23b30d27",
   "metadata": {},
   "outputs": [
    {
     "data": {
      "text/plain": [
       "68628.19880858094"
      ]
     },
     "execution_count": 79,
     "metadata": {},
     "output_type": "execute_result"
    }
   ],
   "source": [
    "# 2. Lasso regression\n",
    "\n",
    "lasso_reg = Lasso(alpha=0.1, max_iter=50000) # can increase alpha to exclude more variables e.g. try alpha=100\n",
    "lasso_reg.fit(housing_prepared, housing_labels)\n",
    "\n",
    "lasso_pred = lasso_reg.predict(housing_prepared)\n",
    "lasso_mse = mean_squared_error(housing_labels, lasso_pred)\n",
    "lasso_rmse = np.sqrt(lasso_mse)\n",
    "lasso_rmse"
   ]
  },
  {
   "cell_type": "code",
   "execution_count": 80,
   "id": "b6a0160b",
   "metadata": {},
   "outputs": [
    {
     "data": {
      "text/plain": [
       "array([-55648.71169479, -56715.02409299,  13732.79348838,  -1930.46026866,\n",
       "         7328.82033903, -45707.5483243 ,  45453.35467979,  74714.05768163,\n",
       "         6604.69576187,   1042.78039466,   9250.06740603,      0.        ,\n",
       "       -37203.2865245 , 127548.770884  ,  -4461.56504999,   3373.77493024])"
      ]
     },
     "execution_count": 80,
     "metadata": {},
     "output_type": "execute_result"
    }
   ],
   "source": [
    "# check lasso coefficients\n",
    "\n",
    "lasso_reg.coef_"
   ]
  },
  {
   "cell_type": "code",
   "execution_count": 72,
   "id": "94fd3aa1",
   "metadata": {},
   "outputs": [
    {
     "data": {
      "text/plain": [
       "['longitude',\n",
       " 'latitude',\n",
       " 'housing_median_age',\n",
       " 'total_rooms',\n",
       " 'total_bedrooms',\n",
       " 'population',\n",
       " 'households',\n",
       " 'median_income',\n",
       " 'rooms_per_hhold',\n",
       " 'pop_per_hhold',\n",
       " 'bedrooms_per_room',\n",
       " '<1H OCEAN',\n",
       " 'INLAND',\n",
       " 'ISLAND',\n",
       " 'NEAR BAY',\n",
       " 'NEAR OCEAN']"
      ]
     },
     "execution_count": 72,
     "metadata": {},
     "output_type": "execute_result"
    }
   ],
   "source": [
    "# reminder of variable names\n",
    "\n",
    "attributes"
   ]
  },
  {
   "cell_type": "code",
   "execution_count": 81,
   "id": "d77e0432",
   "metadata": {},
   "outputs": [
    {
     "data": {
      "text/plain": [
       "69450.90466998631"
      ]
     },
     "execution_count": 81,
     "metadata": {},
     "output_type": "execute_result"
    }
   ],
   "source": [
    "# 3. ElasticNet regressions\n",
    "\n",
    "elastic_net = ElasticNet(alpha=0.1, l1_ratio=0.5) \n",
    "elastic_net.fit(housing_prepared, housing_labels)\n",
    "\n",
    "elastic_pred = elastic_net.predict(housing_prepared)\n",
    "elastic_mse = mean_squared_error(housing_labels, elastic_pred)\n",
    "elastic_rmse = np.sqrt(elastic_mse)\n",
    "elastic_rmse"
   ]
  },
  {
   "cell_type": "code",
   "execution_count": 82,
   "id": "b3f8a54a",
   "metadata": {},
   "outputs": [
    {
     "data": {
      "text/plain": [
       "array([-28617.13108405, -28344.90064829,  14404.72800277,   3010.68193912,\n",
       "        13275.493586  , -31402.30603864,  21406.42406547,  71829.93708498,\n",
       "         3762.77772543,   -404.1605159 ,   7512.34029315,  11719.14697346,\n",
       "       -36909.85442698,    360.70213448,   9330.11983203,  15496.88199653])"
      ]
     },
     "execution_count": 82,
     "metadata": {},
     "output_type": "execute_result"
    }
   ],
   "source": [
    "elastic_net.coef_\n",
    "\n",
    "# note how the variable coefficients across Ridge, Lasso, Elastic Net, are all quite different"
   ]
  },
  {
   "cell_type": "code",
   "execution_count": 89,
   "id": "639e2b09",
   "metadata": {},
   "outputs": [
    {
     "data": {
      "text/plain": [
       "218339.15956036837"
      ]
     },
     "execution_count": 89,
     "metadata": {},
     "output_type": "execute_result"
    }
   ],
   "source": [
    "# Support Vector Machine regression\n",
    "#   see notes\n",
    "\n",
    "svr = LinearSVR(epsilon=2.5) # epsilon is the determinant of width of line range\n",
    "svr.fit(housing_prepared, housing_labels)\n",
    "\n",
    "svr_pred = svr.predict(housing_prepared)\n",
    "svr_mse = mean_squared_error(housing_labels, svr_pred)\n",
    "svr_rmse = np.sqrt(svr_mse)\n",
    "svr_rmse\n",
    "\n",
    "# as you see from the results, in this particular case the SVR simply doesn't work\n",
    "#   this is unfortunately an issue with SVR, and the reason you would include it as *a* model but not the exclusive model"
   ]
  },
  {
   "cell_type": "code",
   "execution_count": 91,
   "id": "d70099c4",
   "metadata": {},
   "outputs": [
    {
     "data": {
      "text/plain": [
       "71277.40361064207"
      ]
     },
     "execution_count": 91,
     "metadata": {},
     "output_type": "execute_result"
    }
   ],
   "source": [
    "# Gradient Boosting\n",
    "#   see notes\n",
    "\n",
    "gboost = GradientBoostingRegressor(max_depth=2, n_estimators=3, learning_rate=1.0) \n",
    "gboost.fit(housing_prepared, housing_labels)\n",
    "\n",
    "gboost_pred = gboost.predict(housing_prepared)\n",
    "gboost_mse = mean_squared_error(housing_labels, gboost_pred)\n",
    "gboost_rmse = np.sqrt(gboost_mse)\n",
    "gboost_rmse"
   ]
  },
  {
   "cell_type": "code",
   "execution_count": 109,
   "id": "1f770b2d",
   "metadata": {},
   "outputs": [
    {
     "data": {
      "text/plain": [
       "26920.763818847765"
      ]
     },
     "execution_count": 109,
     "metadata": {},
     "output_type": "execute_result"
    }
   ],
   "source": [
    "# XGBoost as an alternative form of Gradient Boosting\n",
    "#   has a number of practical improvements over sklearn gradient boosting\n",
    "\n",
    "xgb_reg = xgboost.XGBRegressor()\n",
    "xgb_reg.fit(housing_prepared, housing_labels)\n",
    "\n",
    "xgb_pred = xgb_reg.predict(housing_prepared)\n",
    "xgb_mse = mean_squared_error(housing_labels, xgb_pred)\n",
    "xgb_rmse = np.sqrt(xgb_mse)\n",
    "xgb_rmse"
   ]
  },
  {
   "cell_type": "code",
   "execution_count": 111,
   "id": "3170fdaa",
   "metadata": {},
   "outputs": [
    {
     "name": "stdout",
     "output_type": "stream",
     "text": [
      "[0]\tvalidation_0-rmse:171317.46403\n",
      "[1]\tvalidation_0-rmse:127368.22054\n",
      "[2]\tvalidation_0-rmse:98665.22218\n",
      "[3]\tvalidation_0-rmse:80320.37244\n",
      "[4]\tvalidation_0-rmse:68393.28586\n",
      "[5]\tvalidation_0-rmse:61730.94728\n",
      "[6]\tvalidation_0-rmse:57411.50885\n",
      "[7]\tvalidation_0-rmse:54709.64919\n",
      "[8]\tvalidation_0-rmse:52930.26455\n",
      "[9]\tvalidation_0-rmse:51777.03187\n",
      "[10]\tvalidation_0-rmse:51239.06663\n"
     ]
    },
    {
     "name": "stderr",
     "output_type": "stream",
     "text": [
      "C:\\ProgramData\\Anaconda3\\lib\\site-packages\\xgboost\\sklearn.py:793: UserWarning: `early_stopping_rounds` in `fit` method is deprecated for better compatibility with scikit-learn, use `early_stopping_rounds` in constructor or`set_params` instead.\n",
      "  warnings.warn(\n"
     ]
    },
    {
     "name": "stdout",
     "output_type": "stream",
     "text": [
      "[11]\tvalidation_0-rmse:50731.38832\n",
      "[12]\tvalidation_0-rmse:49723.07512\n",
      "[13]\tvalidation_0-rmse:49368.44314\n",
      "[14]\tvalidation_0-rmse:49239.21897\n",
      "[15]\tvalidation_0-rmse:49098.78439\n",
      "[16]\tvalidation_0-rmse:48837.33763\n",
      "[17]\tvalidation_0-rmse:48339.65861\n",
      "[18]\tvalidation_0-rmse:48197.46482\n",
      "[19]\tvalidation_0-rmse:48091.98974\n",
      "[20]\tvalidation_0-rmse:47846.13214\n",
      "[21]\tvalidation_0-rmse:47845.69027\n",
      "[22]\tvalidation_0-rmse:47533.59586\n",
      "[23]\tvalidation_0-rmse:47477.79637\n",
      "[24]\tvalidation_0-rmse:47375.32492\n",
      "[25]\tvalidation_0-rmse:47411.86972\n",
      "[26]\tvalidation_0-rmse:47368.50317\n",
      "[27]\tvalidation_0-rmse:47134.16768\n",
      "[28]\tvalidation_0-rmse:46906.50874\n",
      "[29]\tvalidation_0-rmse:46891.25087\n",
      "[30]\tvalidation_0-rmse:46805.49072\n",
      "[31]\tvalidation_0-rmse:46802.19656\n",
      "[32]\tvalidation_0-rmse:46736.62747\n",
      "[33]\tvalidation_0-rmse:46593.44329\n",
      "[34]\tvalidation_0-rmse:46624.40184\n",
      "[35]\tvalidation_0-rmse:46626.44925\n"
     ]
    },
    {
     "data": {
      "text/plain": [
       "46593.44331890492"
      ]
     },
     "execution_count": 111,
     "metadata": {},
     "output_type": "execute_result"
    }
   ],
   "source": [
    "# Running XGBoost on test data\n",
    "#    We use a technique called 'early_stopping' here, to prevent overtraining the model\n",
    "\n",
    "xgb_reg.fit(housing_prepared, housing_labels,\n",
    "           eval_set=[(X_test_prepared, y_test)], early_stopping_rounds=2)\n",
    "\n",
    "xgb_pred_test = xgb_reg.predict(X_test_prepared)\n",
    "xgb_mse_test = mean_squared_error(y_test, xgb_pred_test)\n",
    "xgb_rmse_test = np.sqrt(xgb_mse_test)\n",
    "xgb_rmse_test\n",
    "\n",
    "# Note that our final model is not as good as the training dataset results, but better than all other estimates\n",
    "# Both random forests and gradient boosting give the best overall model, which is normally the case"
   ]
  }
 ],
 "metadata": {
  "kernelspec": {
   "display_name": "Python 3 (ipykernel)",
   "language": "python",
   "name": "python3"
  },
  "language_info": {
   "codemirror_mode": {
    "name": "ipython",
    "version": 3
   },
   "file_extension": ".py",
   "mimetype": "text/x-python",
   "name": "python",
   "nbconvert_exporter": "python",
   "pygments_lexer": "ipython3",
   "version": "3.9.7"
  }
 },
 "nbformat": 4,
 "nbformat_minor": 5
}
